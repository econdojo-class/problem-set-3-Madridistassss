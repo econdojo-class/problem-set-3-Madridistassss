{
 "cells": [
  {
   "cell_type": "markdown",
   "metadata": {},
   "source": [
    "## Problem Set 3: Neural Networks\n",
    "\n",
    "### Overview\n",
    "In this problem set, you'll explore the foundational concepts of neural networks, covering basic architecture, activation functions, forward propagation, regularization, and adaptive learning. You'll also complete coding exercises to implement neural network components and train a basic neural network. You will both complete this Python script (`ps3.ipynb`) and submit a LaTeX report (`ps3.tex` and `ps3.pdf`)."
   ]
  },
  {
   "cell_type": "markdown",
   "metadata": {},
   "source": [
    "## 1. Basic Architecture of a Neural Network"
   ]
  },
  {
   "cell_type": "markdown",
   "metadata": {},
   "source": [
    "A neural network is composed of layers of neurons: input layer, hidden layer(s), and an output layer. Each neuron receives inputs, processes them, and passes the result to the next layer.\n",
    "\n",
    "In this section, you'll implement a basic 3-layer neural network structure."
   ]
  },
  {
   "cell_type": "code",
   "execution_count": 1,
   "metadata": {},
   "outputs": [],
   "source": [
    "import numpy as np\n",
    "\n",
    "class NeuralNetwork:\n",
    "    def __init__(self, input_size, hidden_size, output_size):\n",
    "        # Initialize weights and biases\n",
    "        self.weights1 = np.random.randn(input_size, hidden_size) * 0.01\n",
    "        self.bias1 = np.zeros((1, hidden_size))\n",
    "        self.weights2 = np.random.randn(hidden_size, output_size) * 0.01\n",
    "        self.bias2 = np.zeros((1, output_size))\n",
    "\n",
    "    def display_architecture(self):\n",
    "        print(\"Input layer size:\", self.weights1.shape[0])\n",
    "        print(\"Hidden layer size:\", self.weights1.shape[1])\n",
    "        print(\"Output layer size:\", self.weights2.shape[1])\n"
   ]
  },
  {
   "cell_type": "markdown",
   "metadata": {},
   "source": [
    "## 2. Activation Functions"
   ]
  },
  {
   "cell_type": "markdown",
   "metadata": {},
   "source": [
    "\n",
    "Activation functions introduce non-linearity into the network, allowing it to learn more complex patterns. Common functions include:\n",
    "\n",
    "- **Sigmoid**: S-shaped curve, useful for binary classifications.\n",
    "- **ReLU (Rectified Linear Unit)**: Outputs zero if input is negative, otherwise outputs the input.\n",
    "- **Leaky ReLU**: Similar to ReLU but with a small gradient for negative inputs.\n",
    "\n",
    "### Exercise:\n",
    "Write functions for each activation function and plot them over a range of inputs.\n"
   ]
  },
  {
   "cell_type": "code",
   "execution_count": 10,
   "metadata": {},
   "outputs": [
    {
     "data": {
      "image/png": "[encoded data removed]",
      "text/plain": [
       "<Figure size 700x500 with 1 Axes>"
      ]
     },
     "metadata": {},
     "output_type": "display_data"
    }
   ],
   "source": [
    "import matplotlib.pyplot as plt\n",
    "\n",
    "def sigmoid(x):\n",
    "    return 1 / (1 + np.exp(-x))\n",
    "\n",
    "def relu(x):\n",
    "    return np.maximum(0, x)\n",
    "\n",
    "def leaky_relu(x, alpha=0.01):\n",
    "    return np.where(x > 0, x, x * alpha)\n",
    "\n",
    "# Plot activation functions\n",
    "x = np.linspace(-10, 10, 400)\n",
    "plt.figure(figsize=(7, 5))\n",
    "plt.plot(x, sigmoid(x), label='Sigmoid')\n",
    "plt.plot(x, relu(x), label='ReLU')\n",
    "plt.plot(x, leaky_relu(x), label='Leaky ReLU')\n",
    "plt.legend()\n",
    "plt.title(\"Activation Functions\")\n",
    "plt.show()\n"
   ]
  },
  {
   "cell_type": "markdown",
   "metadata": {},
   "source": [
    "## 3. Forward Propagation"
   ]
  },
  {
   "cell_type": "markdown",
   "metadata": {},
   "source": [
    "Forward propagation is the process of passing inputs through the network to generate an output.\n",
    "\n",
    "### Exercise:\n",
    "Implement forward propagation for a 3-layer neural network."
   ]
  },
  {
   "cell_type": "code",
   "execution_count": 11,
   "metadata": {},
   "outputs": [],
   "source": [
    "def forward_propagation(X, weights1, bias1, weights2, bias2):\n",
    "    # Layer 1\n",
    "    Z1 = np.dot(X, weights1) + bias1\n",
    "    A1 = relu(Z1)\n",
    "    # Layer 2\n",
    "    Z2 = np.dot(A1, weights2) + bias2\n",
    "    A2 = sigmoid(Z2)\n",
    "    return A1, A2\n"
   ]
  },
  {
   "cell_type": "markdown",
   "metadata": {},
   "source": [
    "## 4. Overfitting and Regularization"
   ]
  },
  {
   "cell_type": "markdown",
   "metadata": {},
   "source": [
    "Overfitting occurs when a model learns the noise in the training data rather than the actual pattern. Regularization helps control this.\n",
    "\n",
    "Common techniques include:\n",
    "\n",
    "- **L2 Regularization**: Adds a penalty based on the sum of squared weights.\n",
    "- **Dropout**: Randomly ignores some neurons during training.\n",
    "\n",
    "### Exercise:\n",
    "Implement L2 regularization in the loss calculation."
   ]
  },
  {
   "cell_type": "code",
   "execution_count": 12,
   "metadata": {},
   "outputs": [],
   "source": [
    "def l2_regularization(weights1, weights2, reg_lambda):\n",
    "    reg_loss = reg_lambda * (np.sum(np.square(weights1)) + np.sum(np.square(weights2)))\n",
    "    return reg_loss\n"
   ]
  },
  {
   "cell_type": "markdown",
   "metadata": {},
   "source": [
    "## 5. Training a Neural Network"
   ]
  },
  {
   "cell_type": "markdown",
   "metadata": {},
   "source": [
    "Training involves adjusting the weights and biases to minimize the loss. A popular method is gradient descent.\n",
    "\n",
    "### Exercise:\n",
    "Implement a simple gradient descent loop to train the neural network."
   ]
  },
  {
   "cell_type": "code",
   "execution_count": 13,
   "metadata": {},
   "outputs": [],
   "source": [
    "def gradient_descent(X, Y, weights1, bias1, weights2, bias2, learning_rate, iterations):\n",
    "    for i in range(iterations):\n",
    "        # Forward propagation\n",
    "        A1, A2 = forward_propagation(X, weights1, bias1, weights2, bias2)\n",
    "        \n",
    "        # Backpropagation\n",
    "        m = X.shape[0]\n",
    "        dZ2 = A2 - Y\n",
    "        dW2 = (1/m) * np.dot(A1.T, dZ2)\n",
    "        db2 = (1/m) * np.sum(dZ2, axis=0, keepdims=True)\n",
    "        dZ1 = np.dot(dZ2, weights2.T) * (A1 > 0)  # Derivative of ReLU\n",
    "        dW1 = (1/m) * np.dot(X.T, dZ1)\n",
    "        db1 = (1/m) * np.sum(dZ1, axis=0, keepdims=True)\n",
    "        \n",
    "        # Update weights and biases\n",
    "        weights1 -= learning_rate * dW1\n",
    "        bias1 -= learning_rate * db1\n",
    "        weights2 -= learning_rate * dW2\n",
    "        bias2 -= learning_rate * db2\n",
    "\n",
    "        # Print loss\n",
    "        if i % 100 == 0:\n",
    "            loss = np.mean(-Y * np.log(A2) - (1 - Y) * np.log(1 - A2))\n",
    "            print(f\"Iteration {i}, Loss: {loss}\")\n"
   ]
  },
  {
   "cell_type": "markdown",
   "metadata": {},
   "source": [
    "## 6. Adaptive Learning Rates\n"
   ]
  },
  {
   "cell_type": "markdown",
   "metadata": {},
   "source": [
    "Adaptive learning rate methods, like Adam, adjust the learning rate based on past gradients, improving training stability.\n",
    "\n",
    "### Exercise:\n",
    "Implement a simple version of the Adam optimizer for gradient descent."
   ]
  },
  {
   "cell_type": "code",
   "execution_count": 14,
   "metadata": {},
   "outputs": [],
   "source": [
    "def adam_optimizer(X, Y, weights1, bias1, weights2, bias2, learning_rate, beta1, beta2, epsilon, iterations):\n",
    "    m_w1, v_w1 = np.zeros_like(weights1), np.zeros_like(weights1)\n",
    "    m_b1, v_b1 = np.zeros_like(bias1), np.zeros_like(bias1)\n",
    "    m_w2, v_w2 = np.zeros_like(weights2), np.zeros_like(weights2)\n",
    "    m_b2, v_b2 = np.zeros_like(bias2), np.zeros_like(bias2)\n",
    "\n",
    "    for t in range(1, iterations + 1):\n",
    "        # Forward propagation\n",
    "        A1, A2 = forward_propagation(X, weights1, bias1, weights2, bias2)\n",
    "        \n",
    "        # Backpropagation\n",
    "        m = X.shape[0]\n",
    "        dZ2 = A2 - Y\n",
    "        dW2 = (1/m) * np.dot(A1.T, dZ2)\n",
    "        db2 = (1/m) * np.sum(dZ2, axis=0, keepdims=True)\n",
    "        dZ1 = np.dot(dZ2, weights2.T) * (A1 > 0)\n",
    "        dW1 = (1/m) * np.dot(X.T, dZ1)\n",
    "        db1 = (1/m) * np.sum(dZ1, axis=0, keepdims=True)\n",
    "        \n",
    "        # Update moving averages of gradients\n",
    "        m_w1 = beta1 * m_w1 + (1 - beta1) * dW1\n",
    "        v_w1 = beta2 * v_w1 + (1 - beta2) * (dW1 ** 2)\n",
    "        m_b1 = beta1 * m_b1 + (1 - beta1) * db1\n",
    "        v_b1 = beta2 * v_b1 + (1 - beta2) * (db1 ** 2)\n",
    "        m_w2 = beta1 * m_w2 + (1 - beta1) * dW2\n",
    "        v_w2 = beta2 * v_w2 + (1 - beta2) * (dW2 ** 2)\n",
    "        m_b2 = beta1 * m_b2 + (1 - beta1) * db2\n",
    "        v_b2 = beta2 * v_b2 + (1 - beta2) * (db2 ** 2)\n",
    "\n",
    "        # Bias correction\n",
    "        m_w1_corr = m_w1 / (1 - beta1 ** t)\n",
    "        v_w1_corr = v_w1 / (1 - beta2 ** t)\n",
    "        m_b1_corr = m_b1 / (1 - beta1 ** t)\n",
    "        v_b1_corr = v_b1 / (1 - beta2 ** t)\n",
    "        m_w2_corr = m_w2 / (1 - beta1 ** t)\n",
    "        v_w2_corr = v_w2 / (1 - beta2 ** t)\n",
    "        m_b2_corr = m_b2 / (1 - beta1 ** t)\n",
    "        v_b2_corr = v_b2 / (1 - beta2 ** t)\n",
    "\n",
    "        # Update weights and biases\n",
    "        weights1 -= learning_rate * m_w1_corr / (np.sqrt(v_w1_corr) + epsilon)\n",
    "        bias1 -= learning_rate * m_b1_corr / (np.sqrt(v_b1_corr) + epsilon)\n",
    "        weights2 -= learning_rate * m_w2_corr / (np.sqrt(v_w2_corr) + epsilon)\n",
    "        bias2 -= learning_rate * m_b2_corr / (np.sqrt(v_b2_corr) + epsilon)\n"
   ]
  }
 ],
 "metadata": {
  "kernelspec": {
   "display_name": "Python 3",
   "language": "python",
   "name": "python3"
  },
  "language_info": {
   "codemirror_mode": {
    "name": "ipython",
    "version": 3
   },
   "file_extension": ".py",
   "mimetype": "text/x-python",
   "name": "python",
   "nbconvert_exporter": "python",
   "pygments_lexer": "ipython3",
   "version": "3.12.2"
  }
 },
 "nbformat": 4,
 "nbformat_minor": 2
}
